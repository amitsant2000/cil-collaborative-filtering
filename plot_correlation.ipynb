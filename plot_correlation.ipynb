{
 "cells": [
  {
   "cell_type": "code",
   "execution_count": 1,
   "id": "8f44bd1d",
   "metadata": {},
   "outputs": [],
   "source": [
    "import pandas as pd\n",
    "import numpy as np\n",
    "from collections import defaultdict\n",
    "import heapq\n",
    "import torch\n",
    "\n",
    "from tqdm import tqdm\n",
    "\n",
    "from utils.data_utils import read_data_df, read_data_matrix, impute_values, get_wishlist_matrix, get_wishlist_dict, evaluate, make_submission\n"
   ]
  },
  {
   "cell_type": "code",
   "execution_count": 2,
   "id": "c8b7795b",
   "metadata": {},
   "outputs": [],
   "source": [
    "SEED = 42\n",
    "torch.manual_seed(SEED)\n",
    "np.random.seed(SEED)\n",
    "\n",
    "train_df, valid_df = read_data_df()\n",
    "train_mat = read_data_matrix(train_df)\n",
    "train_mat = impute_values(train_mat)\n",
    "wishlist_mat = get_wishlist_matrix()\n",
    "wishlist_dict = get_wishlist_dict()"
   ]
  },
  {
   "cell_type": "code",
   "execution_count": 3,
   "id": "d0e8c587",
   "metadata": {},
   "outputs": [
    {
     "data": {
      "image/png": "[encoded data removed]",
      "text/plain": [
       "<Figure size 600x400 with 1 Axes>"
      ]
     },
     "metadata": {},
     "output_type": "display_data"
    }
   ],
   "source": [
    "import matplotlib.pyplot as plt\n",
    "\n",
    "plt.figure(figsize=(6, 4))\n",
    "plt.hist(train_df['rating'], bins=range(train_df['rating'].min(), train_df['rating'].max() + 2), edgecolor='black', align='left')\n",
    "plt.xlabel('Rating')\n",
    "plt.ylabel('Count')\n",
    "plt.title('Histogram of Ratings in train_df')\n",
    "plt.xticks(range(train_df['rating'].min(), train_df['rating'].max() + 1))\n",
    "plt.show()"
   ]
  },
  {
   "cell_type": "code",
   "execution_count": 4,
   "id": "1eb94371",
   "metadata": {},
   "outputs": [
    {
     "data": {
      "text/plain": [
       "5.0"
      ]
     },
     "execution_count": 4,
     "metadata": {},
     "output_type": "execute_result"
    }
   ],
   "source": [
    "train_df['rating'].quantile(0.75)"
   ]
  },
  {
   "cell_type": "code",
   "execution_count": 5,
   "id": "d1c0dc7c",
   "metadata": {},
   "outputs": [],
   "source": [
    "shortest_path_distances = torch.load('m_step_trans_prob.pt')"
   ]
  },
  {
   "cell_type": "code",
   "execution_count": 6,
   "id": "c97b81b5",
   "metadata": {},
   "outputs": [],
   "source": [
    "shortest_path_distances[torch.isinf(shortest_path_distances)] = 0"
   ]
  },
  {
   "cell_type": "code",
   "execution_count": 8,
   "id": "3e6f2503",
   "metadata": {},
   "outputs": [
    {
     "name": "stderr",
     "output_type": "stream",
     "text": [
      "100%|██████████| 2/2 [00:06<00:00,  3.24s/it]"
     ]
    },
    {
     "name": "stdout",
     "output_type": "stream",
     "text": [
      "Pearson correlation: 0.15077465648466684\n",
      "Mutual information: 0.016424156884687544\n"
     ]
    },
    {
     "name": "stderr",
     "output_type": "stream",
     "text": [
      "\n"
     ]
    }
   ],
   "source": [
    "from sklearn.metrics import mutual_info_score\n",
    "from scipy.stats import pearsonr\n",
    "\n",
    "# Extract distances for each (sid, pid) pair in train_df\n",
    "sid_indices = valid_df['sid'].values\n",
    "pid_indices = valid_df['pid'].values\n",
    "distance_indices = (sid_indices, 10000 + pid_indices)\n",
    "# Compute the difference vectors for each (sid, pid) pair in batches to avoid memory issues\n",
    "batch_size = 100_000\n",
    "num_samples = len(distance_indices[0])\n",
    "distances_list = []\n",
    "\n",
    "for start in tqdm(range(0, num_samples, batch_size)):\n",
    "    end = min(start + batch_size, num_samples)\n",
    "    sids = distance_indices[0][start:end]\n",
    "    pids = distance_indices[1][start:end]\n",
    "    diffs = shortest_path_distances[sids] - shortest_path_distances[pids]\n",
    "    batch_distances = torch.norm(diffs, dim=1).cpu().numpy()\n",
    "    distances_list.append(batch_distances)\n",
    "\n",
    "distances = np.concatenate(distances_list)\n",
    "\n",
    "\n",
    "ratings = valid_df['rating'].values\n",
    "\n",
    "# Pearson correlation\n",
    "corr, _ = pearsonr(ratings, distances)\n",
    "\n",
    "# Mutual information (discretize distances for MI)\n",
    "distances_discrete = np.digitize(distances, np.histogram_bin_edges(distances, bins='auto'))\n",
    "mi = mutual_info_score(ratings, distances_discrete)\n",
    "\n",
    "print(f\"Pearson correlation: {corr}\")\n",
    "print(f\"Mutual information: {mi}\")"
   ]
  },
  {
   "cell_type": "code",
   "execution_count": 14,
   "id": "a23360c7",
   "metadata": {},
   "outputs": [
    {
     "name": "stdout",
     "output_type": "stream",
     "text": [
      "Pearson correlation: 0.12062344582814949\n",
      "Mutual information: 0.01843930452334843\n"
     ]
    }
   ],
   "source": [
    "from sklearn.metrics import mutual_info_score\n",
    "from scipy.stats import pearsonr\n",
    "\n",
    "# Extract distances for each (sid, pid) pair in train_df\n",
    "sid_indices = valid_df['sid'].values\n",
    "pid_indices = valid_df['pid'].values\n",
    "distance_indices = (sid_indices, 10000 + pid_indices)\n",
    "# Compute the difference vectors for each (sid, pid) pair in batches to avoid memory issues\n",
    "batch_size = 100_000\n",
    "num_samples = len(distance_indices[0])\n",
    "\n",
    "\n",
    "distances = shortest_path_distances[distance_indices].cpu().numpy()\n",
    "\n",
    "\n",
    "ratings = valid_df['rating'].values\n",
    "\n",
    "# Pearson correlation\n",
    "corr, _ = pearsonr(ratings, distances)\n",
    "\n",
    "# Mutual information (discretize distances for MI)\n",
    "distances_discrete = np.digitize(distances, np.histogram_bin_edges(distances, bins='auto'))\n",
    "mi = mutual_info_score(ratings, distances_discrete)\n",
    "\n",
    "print(f\"Pearson correlation: {corr}\")\n",
    "print(f\"Mutual information: {mi}\")"
   ]
  },
  {
   "cell_type": "code",
   "execution_count": 155,
   "id": "43b61439",
   "metadata": {},
   "outputs": [
    {
     "data": {
      "text/plain": [
       "tensor([[8.8959e-05, 1.6554e-04, 8.2357e-05,  ..., 1.1217e-04, 8.3060e-05,\n",
       "         8.7622e-05],\n",
       "        [8.9348e-05, 1.6627e-04, 8.2717e-05,  ..., 1.0980e-04, 8.1310e-05,\n",
       "         8.5780e-05],\n",
       "        [8.8903e-05, 1.6543e-04, 8.2305e-05,  ..., 1.1251e-04, 8.3310e-05,\n",
       "         8.7886e-05],\n",
       "        ...,\n",
       "        [1.8606e-05, 3.3745e-05, 1.7288e-05,  ..., 5.3965e-04, 3.9925e-04,\n",
       "         4.2063e-04],\n",
       "        [1.8620e-05, 3.3771e-05, 1.7301e-05,  ..., 5.3956e-04, 3.9919e-04,\n",
       "         4.2056e-04],\n",
       "        [1.8640e-05, 3.3809e-05, 1.7320e-05,  ..., 5.3944e-04, 3.9910e-04,\n",
       "         4.2047e-04]], device='cuda:0')"
      ]
     },
     "execution_count": 155,
     "metadata": {},
     "output_type": "execute_result"
    }
   ],
   "source": [
    "shortest_path_distances"
   ]
  },
  {
   "cell_type": "code",
   "execution_count": 156,
   "id": "bd5970f4",
   "metadata": {},
   "outputs": [
    {
     "data": {
      "text/plain": [
       "(np.float32(0.025555104), np.float32(0.026211845))"
      ]
     },
     "execution_count": 156,
     "metadata": {},
     "output_type": "execute_result"
    }
   ],
   "source": [
    "min_distances = distances.min()\n",
    "max_distances = distances.max()\n",
    "min_distances, max_distances"
   ]
  },
  {
   "cell_type": "code",
   "execution_count": 157,
   "id": "114b177a",
   "metadata": {},
   "outputs": [
    {
     "data": {
      "text/plain": [
       "(112819,)"
      ]
     },
     "execution_count": 157,
     "metadata": {},
     "output_type": "execute_result"
    }
   ],
   "source": [
    "distance_indices[0].shape"
   ]
  },
  {
   "cell_type": "code",
   "execution_count": 158,
   "id": "6ea14edd",
   "metadata": {},
   "outputs": [
    {
     "data": {
      "text/plain": [
       "(112819,)"
      ]
     },
     "execution_count": 158,
     "metadata": {},
     "output_type": "execute_result"
    }
   ],
   "source": [
    "ratings.shape"
   ]
  },
  {
   "cell_type": "code",
   "execution_count": 159,
   "id": "37326f97",
   "metadata": {},
   "outputs": [
    {
     "data": {
      "text/plain": [
       "tensor(True, device='cuda:0')"
      ]
     },
     "execution_count": 159,
     "metadata": {},
     "output_type": "execute_result"
    }
   ],
   "source": [
    "((shortest_path_distances < 1) * (shortest_path_distances > 0)).any()"
   ]
  },
  {
   "cell_type": "code",
   "execution_count": 160,
   "id": "03a893a3",
   "metadata": {},
   "outputs": [
    {
     "data": {
      "text/plain": [
       "array([0.02598737, 0.0259894 , 0.02594826, ..., 0.02598696, 0.02584133,\n",
       "       0.02595665], shape=(112819,), dtype=float32)"
      ]
     },
     "execution_count": 160,
     "metadata": {},
     "output_type": "execute_result"
    }
   ],
   "source": [
    "distances"
   ]
  },
  {
   "cell_type": "code",
   "execution_count": 161,
   "id": "dd08251d",
   "metadata": {},
   "outputs": [
    {
     "data": {
      "text/plain": [
       "tensor([[8.8959e-05, 1.6554e-04, 8.2357e-05,  ..., 1.1217e-04, 8.3060e-05,\n",
       "         8.7622e-05],\n",
       "        [8.9348e-05, 1.6627e-04, 8.2717e-05,  ..., 1.0980e-04, 8.1310e-05,\n",
       "         8.5780e-05],\n",
       "        [8.8903e-05, 1.6543e-04, 8.2305e-05,  ..., 1.1251e-04, 8.3310e-05,\n",
       "         8.7886e-05],\n",
       "        ...,\n",
       "        [1.8606e-05, 3.3745e-05, 1.7288e-05,  ..., 5.3965e-04, 3.9925e-04,\n",
       "         4.2063e-04],\n",
       "        [1.8620e-05, 3.3771e-05, 1.7301e-05,  ..., 5.3956e-04, 3.9919e-04,\n",
       "         4.2056e-04],\n",
       "        [1.8640e-05, 3.3809e-05, 1.7320e-05,  ..., 5.3944e-04, 3.9910e-04,\n",
       "         4.2047e-04]], device='cuda:0')"
      ]
     },
     "execution_count": 161,
     "metadata": {},
     "output_type": "execute_result"
    }
   ],
   "source": [
    "shortest_path_distances"
   ]
  },
  {
   "cell_type": "code",
   "execution_count": 162,
   "id": "f771c1c0",
   "metadata": {},
   "outputs": [
    {
     "ename": "TypeError",
     "evalue": "can't convert cuda:0 device type tensor to numpy. Use Tensor.cpu() to copy the tensor to host memory first.",
     "output_type": "error",
     "traceback": [
      "\u001b[0;31m---------------------------------------------------------------------------\u001b[0m",
      "\u001b[0;31mTypeError\u001b[0m                                 Traceback (most recent call last)",
      "Cell \u001b[0;32mIn[162], line 1\u001b[0m\n\u001b[0;32m----> 1\u001b[0m (\u001b[43mshortest_path_distances\u001b[49m\u001b[43m \u001b[49m\u001b[38;5;241;43m-\u001b[39;49m\u001b[43m \u001b[49m\u001b[43mnp\u001b[49m\u001b[38;5;241;43m.\u001b[39;49m\u001b[43meye\u001b[49m\u001b[43m(\u001b[49m\u001b[43mshortest_path_distances\u001b[49m\u001b[38;5;241;43m.\u001b[39;49m\u001b[43mshape\u001b[49m\u001b[43m[\u001b[49m\u001b[38;5;241;43m0\u001b[39;49m\u001b[43m]\u001b[49m\u001b[43m)\u001b[49m \u001b[38;5;241m<\u001b[39m \u001b[38;5;241m1\u001b[39m)\u001b[38;5;241m.\u001b[39mall()\n",
      "File \u001b[0;32m~/miniconda3/envs/cil-project-test/lib/python3.10/site-packages/torch/_tensor.py:1225\u001b[0m, in \u001b[0;36mTensor.__array__\u001b[0;34m(self, dtype)\u001b[0m\n\u001b[1;32m   1223\u001b[0m     \u001b[38;5;28;01mreturn\u001b[39;00m handle_torch_function(Tensor\u001b[38;5;241m.\u001b[39m__array__, (\u001b[38;5;28mself\u001b[39m,), \u001b[38;5;28mself\u001b[39m, dtype\u001b[38;5;241m=\u001b[39mdtype)\n\u001b[1;32m   1224\u001b[0m \u001b[38;5;28;01mif\u001b[39;00m dtype \u001b[38;5;129;01mis\u001b[39;00m \u001b[38;5;28;01mNone\u001b[39;00m:\n\u001b[0;32m-> 1225\u001b[0m     \u001b[38;5;28;01mreturn\u001b[39;00m \u001b[38;5;28;43mself\u001b[39;49m\u001b[38;5;241;43m.\u001b[39;49m\u001b[43mnumpy\u001b[49m\u001b[43m(\u001b[49m\u001b[43m)\u001b[49m\n\u001b[1;32m   1226\u001b[0m \u001b[38;5;28;01melse\u001b[39;00m:\n\u001b[1;32m   1227\u001b[0m     \u001b[38;5;28;01mreturn\u001b[39;00m \u001b[38;5;28mself\u001b[39m\u001b[38;5;241m.\u001b[39mnumpy()\u001b[38;5;241m.\u001b[39mastype(dtype, copy\u001b[38;5;241m=\u001b[39m\u001b[38;5;28;01mFalse\u001b[39;00m)\n",
      "\u001b[0;31mTypeError\u001b[0m: can't convert cuda:0 device type tensor to numpy. Use Tensor.cpu() to copy the tensor to host memory first."
     ]
    }
   ],
   "source": [
    "(shortest_path_distances - np.eye(shortest_path_distances.shape[0]) < 1).all()"
   ]
  },
  {
   "cell_type": "code",
   "execution_count": null,
   "id": "f8018bc5",
   "metadata": {},
   "outputs": [],
   "source": [
    "import pickle\n",
    "with open(\"simplices.pkl\", \"rb\") as f:\n",
    "    simplices = pickle.load(f)\n",
    "\n",
    "with open(\"simplices_val.pkl\", \"rb\") as f:\n",
    "    simplices_val = pickle.load(f)"
   ]
  },
  {
   "cell_type": "code",
   "execution_count": null,
   "id": "b3de0b86",
   "metadata": {},
   "outputs": [],
   "source": [
    "CHOSEN = 1"
   ]
  },
  {
   "cell_type": "code",
   "execution_count": null,
   "id": "f34dc105",
   "metadata": {},
   "outputs": [
    {
     "data": {
      "text/plain": [
       "((112819,), (1015368,))"
      ]
     },
     "execution_count": 148,
     "metadata": {},
     "output_type": "execute_result"
    }
   ],
   "source": [
    "ratings.shape, np.array(simplices[CHOSEN]).shape"
   ]
  },
  {
   "cell_type": "code",
   "execution_count": null,
   "id": "06e49847",
   "metadata": {},
   "outputs": [
    {
     "ename": "ValueError",
     "evalue": "`x` and `y` must have the same length along `axis`.",
     "output_type": "error",
     "traceback": [
      "\u001b[0;31m---------------------------------------------------------------------------\u001b[0m",
      "\u001b[0;31mValueError\u001b[0m                                Traceback (most recent call last)",
      "\u001b[0;32m/tmp/ipykernel_153934/1596223702.py\u001b[0m in \u001b[0;36m?\u001b[0;34m()\u001b[0m\n\u001b[0;32m----> 1\u001b[0;31m \u001b[0mcorr\u001b[0m\u001b[0;34m,\u001b[0m \u001b[0m_\u001b[0m \u001b[0;34m=\u001b[0m \u001b[0mpearsonr\u001b[0m\u001b[0;34m(\u001b[0m\u001b[0mratings\u001b[0m\u001b[0;34m,\u001b[0m \u001b[0mnp\u001b[0m\u001b[0;34m.\u001b[0m\u001b[0marray\u001b[0m\u001b[0;34m(\u001b[0m\u001b[0msimplices\u001b[0m\u001b[0;34m[\u001b[0m\u001b[0mCHOSEN\u001b[0m\u001b[0;34m]\u001b[0m\u001b[0;34m)\u001b[0m\u001b[0;34m)\u001b[0m\u001b[0;34m\u001b[0m\u001b[0;34m\u001b[0m\u001b[0m\n\u001b[0m\u001b[1;32m      2\u001b[0m \u001b[0;34m\u001b[0m\u001b[0m\n\u001b[1;32m      3\u001b[0m \u001b[0;31m# Mutual information (discretize distances for MI)\u001b[0m\u001b[0;34m\u001b[0m\u001b[0;34m\u001b[0m\u001b[0m\n\u001b[1;32m      4\u001b[0m \u001b[0msimplices_discrete\u001b[0m \u001b[0;34m=\u001b[0m \u001b[0mnp\u001b[0m\u001b[0;34m.\u001b[0m\u001b[0mdigitize\u001b[0m\u001b[0;34m(\u001b[0m\u001b[0mnp\u001b[0m\u001b[0;34m.\u001b[0m\u001b[0marray\u001b[0m\u001b[0;34m(\u001b[0m\u001b[0msimplices\u001b[0m\u001b[0;34m[\u001b[0m\u001b[0mCHOSEN\u001b[0m\u001b[0;34m]\u001b[0m\u001b[0;34m)\u001b[0m\u001b[0;34m,\u001b[0m \u001b[0mnp\u001b[0m\u001b[0;34m.\u001b[0m\u001b[0mhistogram_bin_edges\u001b[0m\u001b[0;34m(\u001b[0m\u001b[0mnp\u001b[0m\u001b[0;34m.\u001b[0m\u001b[0marray\u001b[0m\u001b[0;34m(\u001b[0m\u001b[0msimplices\u001b[0m\u001b[0;34m[\u001b[0m\u001b[0mCHOSEN\u001b[0m\u001b[0;34m]\u001b[0m\u001b[0;34m)\u001b[0m\u001b[0;34m,\u001b[0m \u001b[0mbins\u001b[0m\u001b[0;34m=\u001b[0m\u001b[0;34m'auto'\u001b[0m\u001b[0;34m)\u001b[0m\u001b[0;34m)\u001b[0m\u001b[0;34m\u001b[0m\u001b[0;34m\u001b[0m\u001b[0m\n",
      "\u001b[0;32m~/miniconda3/envs/cil-project-test/lib/python3.10/site-packages/scipy/stats/_stats_py.py\u001b[0m in \u001b[0;36m?\u001b[0;34m(x, y, alternative, method, axis)\u001b[0m\n\u001b[1;32m   4545\u001b[0m     \u001b[0maxis\u001b[0m \u001b[0;34m=\u001b[0m \u001b[0maxis_int\u001b[0m\u001b[0;34m\u001b[0m\u001b[0;34m\u001b[0m\u001b[0m\n\u001b[1;32m   4546\u001b[0m \u001b[0;34m\u001b[0m\u001b[0m\n\u001b[1;32m   4547\u001b[0m     \u001b[0mn\u001b[0m \u001b[0;34m=\u001b[0m \u001b[0mx\u001b[0m\u001b[0;34m.\u001b[0m\u001b[0mshape\u001b[0m\u001b[0;34m[\u001b[0m\u001b[0maxis\u001b[0m\u001b[0;34m]\u001b[0m\u001b[0;34m\u001b[0m\u001b[0;34m\u001b[0m\u001b[0m\n\u001b[1;32m   4548\u001b[0m     \u001b[0;32mif\u001b[0m \u001b[0mn\u001b[0m \u001b[0;34m!=\u001b[0m \u001b[0my\u001b[0m\u001b[0;34m.\u001b[0m\u001b[0mshape\u001b[0m\u001b[0;34m[\u001b[0m\u001b[0maxis\u001b[0m\u001b[0;34m]\u001b[0m\u001b[0;34m:\u001b[0m\u001b[0;34m\u001b[0m\u001b[0;34m\u001b[0m\u001b[0m\n\u001b[0;32m-> 4549\u001b[0;31m         \u001b[0;32mraise\u001b[0m \u001b[0mValueError\u001b[0m\u001b[0;34m(\u001b[0m\u001b[0;34m'`x` and `y` must have the same length along `axis`.'\u001b[0m\u001b[0;34m)\u001b[0m\u001b[0;34m\u001b[0m\u001b[0;34m\u001b[0m\u001b[0m\n\u001b[0m\u001b[1;32m   4550\u001b[0m \u001b[0;34m\u001b[0m\u001b[0m\n\u001b[1;32m   4551\u001b[0m     \u001b[0;32mif\u001b[0m \u001b[0mn\u001b[0m \u001b[0;34m<\u001b[0m \u001b[0;36m2\u001b[0m\u001b[0;34m:\u001b[0m\u001b[0;34m\u001b[0m\u001b[0;34m\u001b[0m\u001b[0m\n\u001b[1;32m   4552\u001b[0m         \u001b[0;32mraise\u001b[0m \u001b[0mValueError\u001b[0m\u001b[0;34m(\u001b[0m\u001b[0;34m'`x` and `y` must have length at least 2.'\u001b[0m\u001b[0;34m)\u001b[0m\u001b[0;34m\u001b[0m\u001b[0;34m\u001b[0m\u001b[0m\n",
      "\u001b[0;31mValueError\u001b[0m: `x` and `y` must have the same length along `axis`."
     ]
    }
   ],
   "source": [
    "corr, _ = pearsonr(ratings, np.array(simplices[CHOSEN]))\n",
    "\n",
    "# Mutual information (discretize distances for MI)\n",
    "simplices_discrete = np.digitize(np.array(simplices[CHOSEN]), np.histogram_bin_edges(np.array(simplices[CHOSEN]), bins='auto'))\n",
    "mi = mutual_info_score(ratings, simplices_discrete)\n",
    "\n",
    "print(f\"Pearson correlation: {corr}\")\n",
    "print(f\"Mutual information: {mi}\")"
   ]
  },
  {
   "cell_type": "code",
   "execution_count": null,
   "id": "187392a2",
   "metadata": {},
   "outputs": [
    {
     "data": {
      "text/plain": [
       "10998"
      ]
     },
     "execution_count": 88,
     "metadata": {},
     "output_type": "execute_result"
    }
   ],
   "source": [
    "simplices[1.0][0]"
   ]
  },
  {
   "cell_type": "code",
   "execution_count": null,
   "id": "cff72d73",
   "metadata": {},
   "outputs": [],
   "source": [
    "probs = [i for i in range(11)]"
   ]
  },
  {
   "cell_type": "code",
   "execution_count": null,
   "id": "499d48e6",
   "metadata": {},
   "outputs": [
    {
     "name": "stdout",
     "output_type": "stream",
     "text": [
      "Shape of sequences: (1015368, 11)\n"
     ]
    }
   ],
   "source": [
    "import torch\n",
    "from torch.utils.data import Dataset, DataLoader\n",
    "\n",
    "class SimplicesSequenceDataset(Dataset):\n",
    "    def __init__(self, simplices, probs, ratings):\n",
    "        self.probs = np.array([p for p in probs])\n",
    "        self.simplices = simplices\n",
    "        self.ratings = ratings\n",
    "        # Build (num_samples, num_probs) array\n",
    "        self.sequences = np.stack([np.array(self.simplices[p]) for p in self.probs], axis=1)\n",
    "        print(f\"Shape of sequences: {self.sequences.shape}\")\n",
    "        assert self.sequences.shape[0] == len(self.ratings)\n",
    "\n",
    "    def __len__(self):\n",
    "        return len(self.ratings)\n",
    "\n",
    "    def __getitem__(self, idx):\n",
    "        # Return (sequence, rating)\n",
    "        seq = self.sequences[idx]\n",
    "        rating = self.ratings[idx]\n",
    "        return torch.tensor(seq, dtype=torch.float32), torch.tensor(rating, dtype=torch.float32)\n",
    "\n",
    "# Fix for probs: if it's a generator, convert to list of floats\n",
    "if isinstance(probs, np.ndarray) and probs.dtype == object:\n",
    "    probs_list = list(probs)\n",
    "    if hasattr(probs_list[0], '__iter__'):\n",
    "        probs_list = [float(x) for x in probs_list[0]]\n",
    "    else:\n",
    "        probs_list = [float(x) for x in probs_list]\n",
    "else:\n",
    "    probs_list = [float(x) for x in probs]\n",
    "\n",
    "ratings = np.array(train_df['rating'].values)\n",
    "dataset = SimplicesSequenceDataset(simplices, probs_list, ratings)\n",
    "dataloader = DataLoader(dataset, batch_size=128, shuffle=True)"
   ]
  },
  {
   "cell_type": "code",
   "execution_count": null,
   "id": "84fc1205",
   "metadata": {},
   "outputs": [
    {
     "data": {
      "text/plain": [
       "(1015368,)"
      ]
     },
     "execution_count": 91,
     "metadata": {},
     "output_type": "execute_result"
    }
   ],
   "source": [
    "ratings.shape"
   ]
  },
  {
   "cell_type": "code",
   "execution_count": null,
   "id": "8a194845",
   "metadata": {},
   "outputs": [
    {
     "name": "stdout",
     "output_type": "stream",
     "text": [
      "Epoch 1/10, Loss: 1.0408\n",
      "Validation Loss: 1.0552\n",
      "Epoch 2/10, Loss: 1.0324\n",
      "Validation Loss: 1.0361\n",
      "Epoch 3/10, Loss: 1.0308\n",
      "Validation Loss: 1.0307\n",
      "Epoch 4/10, Loss: 1.0300\n",
      "Validation Loss: 1.0299\n",
      "Epoch 5/10, Loss: 1.0292\n",
      "Validation Loss: 1.0259\n",
      "Epoch 6/10, Loss: 1.0285\n",
      "Validation Loss: 1.0292\n",
      "Epoch 7/10, Loss: 1.0277\n",
      "Validation Loss: 1.0256\n",
      "Epoch 8/10, Loss: 1.0272\n",
      "Validation Loss: 1.0257\n",
      "Epoch 9/10, Loss: 1.0265\n",
      "Validation Loss: 1.0256\n",
      "Epoch 10/10, Loss: 1.0262\n",
      "Validation Loss: 1.0256\n"
     ]
    }
   ],
   "source": [
    "import torch.nn as nn\n",
    "import torch.optim as optim\n",
    "\n",
    "class SimpleCNN(nn.Module):\n",
    "    def __init__(self, seq_len):\n",
    "        super(SimpleCNN, self).__init__()\n",
    "        self.conv1 = nn.Conv1d(in_channels=1, out_channels=16, kernel_size=3, padding=1)\n",
    "        self.relu = nn.ReLU()\n",
    "        self.conv2 = nn.Conv1d(16, 32, kernel_size=3, padding=1)\n",
    "        self.fc1 = nn.Linear(32 * seq_len, 64)\n",
    "        self.fc2 = nn.Linear(64, 1)\n",
    "\n",
    "    def forward(self, x):\n",
    "        x = x.unsqueeze(1)  # (batch_size, 1, seq_len)\n",
    "        x = torch.log1p(x )  # remove +2 next time\n",
    "        x = self.relu(self.conv1(x))\n",
    "        x = self.relu(self.conv2(x))\n",
    "        x = x.view(x.size(0), -1)\n",
    "        x = self.relu(self.fc1(x))\n",
    "        x = self.fc2(x)\n",
    "        return x.squeeze(1)\n",
    "\n",
    "# Get sequence length from dataset\n",
    "seq_len = dataset[0][0].shape[0]\n",
    "model = SimpleCNN(seq_len)\n",
    "device = torch.device(\"cuda\" if torch.cuda.is_available() else \"cpu\")\n",
    "model.to(device)\n",
    "\n",
    "criterion = nn.MSELoss()\n",
    "optimizer = optim.Adam(model.parameters(), lr=1e-3)\n",
    "\n",
    "# Prepare validation dataset and dataloader\n",
    "class SimplicesSequenceDataset(Dataset):\n",
    "    def __init__(self, simplices, probs, ratings):\n",
    "        self.probs = np.array([p for p in probs])\n",
    "        self.simplices = simplices\n",
    "        self.ratings = ratings\n",
    "        self.sequences = np.stack([np.array(self.simplices[p]) for p in self.probs], axis=1)\n",
    "        assert self.sequences.shape[0] == len(self.ratings)\n",
    "\n",
    "    def __len__(self):\n",
    "        return len(self.ratings)\n",
    "\n",
    "    def __getitem__(self, idx):\n",
    "        seq = self.sequences[idx]\n",
    "        rating = self.ratings[idx]\n",
    "        return torch.tensor(seq, dtype=torch.float32), torch.tensor(rating, dtype=torch.float32)\n",
    "\n",
    "valid_ratings = valid_df['rating'].values\n",
    "valid_dataset = SimplicesSequenceDataset(simplices_val, probs_list, valid_ratings)\n",
    "valid_dataloader = DataLoader(valid_dataset, batch_size=256, shuffle=False)\n",
    "\n",
    "scheduler = torch.optim.lr_scheduler.CosineAnnealingWarmRestarts(optimizer, T_0=10, T_mult=2)\n",
    "\n",
    "\n",
    "EPOCHS = 10\n",
    "for epoch in range(EPOCHS):\n",
    "    model.train()\n",
    "    running_loss = 0.0\n",
    "    for sequences, ratings in dataloader:\n",
    "        sequences = sequences.to(device)\n",
    "        ratings = ratings.to(device)\n",
    "        optimizer.zero_grad()\n",
    "        outputs = model(sequences)\n",
    "        loss = criterion(outputs, ratings)\n",
    "        loss.backward()\n",
    "        optimizer.step()\n",
    "        running_loss += loss.item() * sequences.size(0)\n",
    "    epoch_loss = running_loss / len(dataset)\n",
    "    print(f\"Epoch {epoch+1}/{EPOCHS}, Loss: {epoch_loss:.4f}\")\n",
    "    scheduler.step()\n",
    "\n",
    "    # Validation\n",
    "    model.eval()\n",
    "    val_loss = 0.0\n",
    "    with torch.no_grad():\n",
    "        for sequences, ratings in valid_dataloader:\n",
    "            sequences = sequences.to(device)\n",
    "            ratings = ratings.to(device)\n",
    "            outputs = model(sequences)\n",
    "            loss = criterion(outputs, ratings)\n",
    "            val_loss += loss.item() * sequences.size(0)\n",
    "    val_loss /= len(valid_dataset)\n",
    "    print(f\"Validation Loss: {val_loss:.4f}\")"
   ]
  },
  {
   "cell_type": "code",
   "execution_count": null,
   "id": "ff9e48c2",
   "metadata": {},
   "outputs": [
    {
     "name": "stdout",
     "output_type": "stream",
     "text": [
      "Linear RMSE on filtration features: 1.019\n"
     ]
    }
   ],
   "source": [
    "from sklearn.linear_model import Ridge\n",
    "from sklearn.model_selection import train_test_split\n",
    "from sklearn.metrics import mean_squared_error\n",
    "\n",
    "ratings = np.array(train_df['rating'].values)\n",
    "filtrations = np.stack([np.array(simplices[p]) for p in probs], axis=1)\n",
    "X_train, X_val, y_train, y_val = train_test_split(np.log1p(filtrations )[:, 3:9], ratings, test_size=0.1)\n",
    "reg = Ridge(alpha=1.0)\n",
    "reg.fit(X_train, y_train)\n",
    "rmse = mean_squared_error(y_val, reg.predict(X_val))\n",
    "print(f\"Linear RMSE on filtration features: {rmse:.3f}\")"
   ]
  },
  {
   "cell_type": "code",
   "execution_count": null,
   "id": "62e19184",
   "metadata": {},
   "outputs": [
    {
     "data": {
      "text/plain": [
       "(1015368, 11)"
      ]
     },
     "execution_count": 135,
     "metadata": {},
     "output_type": "execute_result"
    }
   ],
   "source": [
    "filtrations.shape"
   ]
  },
  {
   "cell_type": "code",
   "execution_count": 163,
   "id": "7dbf23b3",
   "metadata": {},
   "outputs": [
    {
     "name": "stdout",
     "output_type": "stream",
     "text": [
      "[1.00691011e-10 1.37648182e-01 2.14944568e-01 2.67772703e-01\n",
      " 3.02655116e-01 3.21832923e-01 3.23332583e-01 2.93695445e-01\n",
      " 1.47356360e-01 2.56421331e-01 0.00000000e+00]\n"
     ]
    }
   ],
   "source": [
    "import numpy as np\n",
    "print(np.std(np.log1p(filtrations ), axis=0))"
   ]
  },
  {
   "cell_type": "code",
   "execution_count": 165,
   "id": "72f5cf8a",
   "metadata": {},
   "outputs": [
    {
     "name": "stdout",
     "output_type": "stream",
     "text": [
      "[0.0040343  0.         0.         0.         0.         0.\n",
      " 0.         0.         0.         0.00086813 0.00217175]\n"
     ]
    }
   ],
   "source": [
    "from sklearn.feature_selection import mutual_info_regression\n",
    "ratings = np.array(train_df['rating'].values)\n",
    "mi = mutual_info_regression(filtrations, ratings)\n",
    "print(mi)"
   ]
  },
  {
   "cell_type": "code",
   "execution_count": null,
   "id": "7c5565ee",
   "metadata": {},
   "outputs": [],
   "source": []
  }
 ],
 "metadata": {
  "kernelspec": {
   "display_name": "cil-project-test",
   "language": "python",
   "name": "python3"
  },
  "language_info": {
   "codemirror_mode": {
    "name": "ipython",
    "version": 3
   },
   "file_extension": ".py",
   "mimetype": "text/x-python",
   "name": "python",
   "nbconvert_exporter": "python",
   "pygments_lexer": "ipython3",
   "version": "3.10.16"
  }
 },
 "nbformat": 4,
 "nbformat_minor": 5
}
